{
 "cells": [
  {
   "cell_type": "code",
   "execution_count": 45,
   "metadata": {},
   "outputs": [
    {
     "name": "stdout",
     "output_type": "stream",
     "text": [
      "  NumNodes: 19717\n",
      "  NumEdges: 88651\n",
      "  NumFeats: 500\n",
      "  NumClasses: 3\n",
      "  NumTrainingSamples: 60\n",
      "  NumValidationSamples: 500\n",
      "  NumTestSamples: 1000\n",
      "Done loading data from cached files.\n"
     ]
    }
   ],
   "source": [
    "import dgl\n",
    "from dgl.data import PubmedGraphDataset\n",
    "from dgl import AddSelfLoop\n",
    "from dgl import to_networkx\n",
    "import numpy as np\n",
    "import scipy.sparse as sp\n",
    "import torch\n",
    "\n",
    "# Load the dataset\n",
    "transform = AddSelfLoop()  # Add self-loops\n",
    "data = PubmedGraphDataset(transform=transform)\n",
    "g = data[0]  # Get the first graph object from the dataset\n",
    "\n",
    "# Convert to NetworkX graph to easily get adjacency matrix, \n",
    "# or use DGL's own functions for adjacency matrix\n",
    "#adj = g.adjacency_matrix()  # Get adjacency matrix in CSR format #scipy_fmt=\"csr\"\n",
    "\n",
    "# Extract features\n",
    "features = g.ndata['feat']  # Node features\n",
    "\n",
    "# Extract labels\n",
    "labels = g.ndata['label']  # Node labels\n",
    "\n",
    "# Training, validation, and test indices\n",
    "# Assuming these are provided in the dataset (common in citation network datasets)\n",
    "# Otherwise, you'll need to create these splits\n",
    "idx_train = torch.nonzero(g.ndata['train_mask'], as_tuple=False).squeeze()\n",
    "idx_val = torch.nonzero(g.ndata['val_mask'], as_tuple=False).squeeze()\n",
    "idx_test = torch.nonzero(g.ndata['test_mask'], as_tuple=False).squeeze()\n",
    "\n",
    "# Convert adjacency matrix to dense format if needed\n",
    "# adj_dense = adj.todense()\n",
    "\n",
    "# Convert everything to the desired format, e.g., numpy arrays or torch tensors\n",
    "# Note: This step depends on what format you need for your use case\n",
    "features_np = features.numpy()  # Convert features to numpy array if needed\n",
    "labels_np = labels.numpy()  # Convert labels to numpy array if needed\n",
    "\n",
    "# idx_train, idx_val, and idx_test are already torch tensors; convert if needed"
   ]
  },
  {
   "cell_type": "code",
   "execution_count": 46,
   "metadata": {},
   "outputs": [
    {
     "ename": "FileNotFoundError",
     "evalue": "Cannot find DGL C++ sparse library at /Users/ariellerosinski/anaconda3/envs/MLMI4_env/lib/python3.11/site-packages/dgl/dgl_sparse/libdgl_sparse_pytorch_2.2.0.dylib",
     "output_type": "error",
     "traceback": [
      "\u001b[0;31m---------------------------------------------------------------------------\u001b[0m",
      "\u001b[0;31mFileNotFoundError\u001b[0m                         Traceback (most recent call last)",
      "Cell \u001b[0;32mIn[46], line 2\u001b[0m\n\u001b[1;32m      1\u001b[0m g \u001b[38;5;241m=\u001b[39m dgl\u001b[38;5;241m.\u001b[39mgraph(([\u001b[38;5;241m0\u001b[39m, \u001b[38;5;241m1\u001b[39m, \u001b[38;5;241m2\u001b[39m], [\u001b[38;5;241m1\u001b[39m, \u001b[38;5;241m2\u001b[39m, \u001b[38;5;241m3\u001b[39m]))\n\u001b[0;32m----> 2\u001b[0m adj \u001b[38;5;241m=\u001b[39m g\u001b[38;5;241m.\u001b[39madj()\n\u001b[1;32m      3\u001b[0m adj\n",
      "File \u001b[0;32m~/anaconda3/envs/MLMI4_env/lib/python3.11/site-packages/dgl/heterograph.py:3821\u001b[0m, in \u001b[0;36mDGLGraph.adj\u001b[0;34m(self, etype, eweight_name)\u001b[0m\n\u001b[1;32m   3818\u001b[0m \u001b[38;5;66;03m# Temporal fix to introduce a dependency on torch\u001b[39;00m\n\u001b[1;32m   3819\u001b[0m \u001b[38;5;28;01mimport\u001b[39;00m \u001b[38;5;21;01mtorch\u001b[39;00m\n\u001b[0;32m-> 3821\u001b[0m \u001b[38;5;28;01mfrom\u001b[39;00m \u001b[38;5;21;01m.\u001b[39;00m\u001b[38;5;21;01msparse\u001b[39;00m \u001b[38;5;28;01mimport\u001b[39;00m spmatrix\n\u001b[1;32m   3823\u001b[0m etype \u001b[38;5;241m=\u001b[39m \u001b[38;5;28mself\u001b[39m\u001b[38;5;241m.\u001b[39mto_canonical_etype(etype)\n\u001b[1;32m   3824\u001b[0m indices \u001b[38;5;241m=\u001b[39m torch\u001b[38;5;241m.\u001b[39mstack(\u001b[38;5;28mself\u001b[39m\u001b[38;5;241m.\u001b[39mall_edges(etype\u001b[38;5;241m=\u001b[39metype))\n",
      "File \u001b[0;32m~/anaconda3/envs/MLMI4_env/lib/python3.11/site-packages/dgl/sparse/__init__.py:43\u001b[0m\n\u001b[1;32m     39\u001b[0m     \u001b[38;5;28;01mexcept\u001b[39;00m \u001b[38;5;167;01mException\u001b[39;00m:  \u001b[38;5;66;03m# pylint: disable=W0703\u001b[39;00m\n\u001b[1;32m     40\u001b[0m         \u001b[38;5;28;01mraise\u001b[39;00m \u001b[38;5;167;01mImportError\u001b[39;00m(\u001b[38;5;124m\"\u001b[39m\u001b[38;5;124mCannot load DGL C++ sparse library\u001b[39m\u001b[38;5;124m\"\u001b[39m)\n\u001b[0;32m---> 43\u001b[0m load_dgl_sparse()\n",
      "File \u001b[0;32m~/anaconda3/envs/MLMI4_env/lib/python3.11/site-packages/dgl/sparse/__init__.py:35\u001b[0m, in \u001b[0;36mload_dgl_sparse\u001b[0;34m()\u001b[0m\n\u001b[1;32m     33\u001b[0m path \u001b[38;5;241m=\u001b[39m os\u001b[38;5;241m.\u001b[39mpath\u001b[38;5;241m.\u001b[39mjoin(dirname, \u001b[38;5;124m\"\u001b[39m\u001b[38;5;124mdgl_sparse\u001b[39m\u001b[38;5;124m\"\u001b[39m, basename)\n\u001b[1;32m     34\u001b[0m \u001b[38;5;28;01mif\u001b[39;00m \u001b[38;5;129;01mnot\u001b[39;00m os\u001b[38;5;241m.\u001b[39mpath\u001b[38;5;241m.\u001b[39mexists(path):\n\u001b[0;32m---> 35\u001b[0m     \u001b[38;5;28;01mraise\u001b[39;00m \u001b[38;5;167;01mFileNotFoundError\u001b[39;00m(\u001b[38;5;124mf\u001b[39m\u001b[38;5;124m\"\u001b[39m\u001b[38;5;124mCannot find DGL C++ sparse library at \u001b[39m\u001b[38;5;132;01m{\u001b[39;00mpath\u001b[38;5;132;01m}\u001b[39;00m\u001b[38;5;124m\"\u001b[39m)\n\u001b[1;32m     37\u001b[0m \u001b[38;5;28;01mtry\u001b[39;00m:\n\u001b[1;32m     38\u001b[0m     torch\u001b[38;5;241m.\u001b[39mclasses\u001b[38;5;241m.\u001b[39mload_library(path)\n",
      "\u001b[0;31mFileNotFoundError\u001b[0m: Cannot find DGL C++ sparse library at /Users/ariellerosinski/anaconda3/envs/MLMI4_env/lib/python3.11/site-packages/dgl/dgl_sparse/libdgl_sparse_pytorch_2.2.0.dylib"
     ]
    }
   ],
   "source": [
    "g = dgl.graph(([0, 1, 2], [1, 2, 3]))\n",
    "adj = g.adj()\n",
    "adj"
   ]
  },
  {
   "cell_type": "code",
   "execution_count": 18,
   "metadata": {},
   "outputs": [
    {
     "name": "stdout",
     "output_type": "stream",
     "text": [
      "torch.Size([19717, 500])\n",
      "torch.Size([19717])\n",
      "tensor([1, 1, 0,  ..., 2, 0, 2])\n"
     ]
    }
   ],
   "source": [
    "print(features.shape)\n",
    "print(labels.shape)\n",
    "print(labels)\n"
   ]
  },
  {
   "cell_type": "markdown",
   "metadata": {},
   "source": [
    "#ENDS HERE"
   ]
  },
  {
   "cell_type": "code",
   "execution_count": 11,
   "metadata": {},
   "outputs": [
    {
     "name": "stdout",
     "output_type": "stream",
     "text": [
      "  NumNodes: 19717\n",
      "  NumEdges: 88651\n",
      "  NumFeats: 500\n",
      "  NumClasses: 3\n",
      "  NumTrainingSamples: 60\n",
      "  NumValidationSamples: 500\n",
      "  NumTestSamples: 1000\n",
      "Done loading data from cached files.\n"
     ]
    },
    {
     "data": {
      "text/plain": [
       "Graph(num_nodes=19717, num_edges=108365,\n",
       "      ndata_schemes={'feat': Scheme(shape=(500,), dtype=torch.float32), 'label': Scheme(shape=(), dtype=torch.int64), 'val_mask': Scheme(shape=(), dtype=torch.bool), 'test_mask': Scheme(shape=(), dtype=torch.bool), 'train_mask': Scheme(shape=(), dtype=torch.bool)}\n",
       "      edata_schemes={})"
      ]
     },
     "execution_count": 11,
     "metadata": {},
     "output_type": "execute_result"
    }
   ],
   "source": [
    "\n",
    "\n",
    "from dgl.data import CiteseerGraphDataset, CoraGraphDataset, PubmedGraphDataset\n",
    "from dgl import AddSelfLoop\n",
    "\n",
    "transform = (\n",
    "        AddSelfLoop()\n",
    "    )  # by default, it will first remove self-loops to prevent duplication\n",
    "data = PubmedGraphDataset(transform=transform)\n",
    "\n"
   ]
  },
  {
   "cell_type": "code",
   "execution_count": null,
   "metadata": {},
   "outputs": [],
   "source": [
    "path = \"/Users/ariellerosinski/My Drive/Cambridge/MLMI4/Project/Code/pyGAT/data/cora/Pubmed-Diabetes.NODE.paper.tab\""
   ]
  }
 ],
 "metadata": {
  "kernelspec": {
   "display_name": "env_MLMI1",
   "language": "python",
   "name": "python3"
  },
  "language_info": {
   "codemirror_mode": {
    "name": "ipython",
    "version": 3
   },
   "file_extension": ".py",
   "mimetype": "text/x-python",
   "name": "python",
   "nbconvert_exporter": "python",
   "pygments_lexer": "ipython3",
   "version": "3.11.7"
  }
 },
 "nbformat": 4,
 "nbformat_minor": 2
}
