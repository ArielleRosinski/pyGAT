{
 "cells": [
  {
   "cell_type": "code",
   "execution_count": 1,
   "metadata": {},
   "outputs": [],
   "source": [
    "import numpy as np\n",
    "import scipy.sparse as sp\n",
    "import torch"
   ]
  },
  {
   "cell_type": "code",
   "execution_count": 4,
   "metadata": {},
   "outputs": [],
   "source": [
    "def encode_onehot(labels):\n",
    "    # The classes must be sorted before encoding to enable static class encoding.\n",
    "    # In other words, make sure the first class always maps to index 0.\n",
    "    classes = sorted(list(set(labels)))\n",
    "    classes_dict = {c: np.identity(len(classes))[i, :] for i, c in enumerate(classes)}\n",
    "    labels_onehot = np.array(list(map(classes_dict.get, labels)), dtype=np.int32)\n",
    "    return labels_onehot\n",
    "\n",
    "def normalize_adj(mx):\n",
    "    \"\"\"Row-normalize sparse matrix\"\"\"\n",
    "    rowsum = np.array(mx.sum(1))\n",
    "    r_inv_sqrt = np.power(rowsum, -0.5).flatten()\n",
    "    r_inv_sqrt[np.isinf(r_inv_sqrt)] = 0.\n",
    "    r_mat_inv_sqrt = sp.diags(r_inv_sqrt)\n",
    "    return mx.dot(r_mat_inv_sqrt).transpose().dot(r_mat_inv_sqrt)\n",
    "\n",
    "\n",
    "def normalize_features(mx):\n",
    "    \"\"\"Row-normalize sparse matrix\"\"\"\n",
    "    rowsum = np.array(mx.sum(1))\n",
    "    r_inv = np.power(rowsum, -1).flatten()\n",
    "    r_inv[np.isinf(r_inv)] = 0.\n",
    "    r_mat_inv = sp.diags(r_inv)\n",
    "    mx = r_mat_inv.dot(mx)\n",
    "    return mx\n",
    "\n",
    "\n",
    "def accuracy(output, labels):\n",
    "    preds = output.max(1)[1].type_as(labels)\n",
    "    correct = preds.eq(labels).double()\n",
    "    correct = correct.sum()\n",
    "    return correct / len(labels)"
   ]
  },
  {
   "cell_type": "code",
   "execution_count": 10,
   "metadata": {},
   "outputs": [
    {
     "name": "stdout",
     "output_type": "stream",
     "text": [
      "Loading cora dataset...\n",
      "  (163, 402)\t1.0\n",
      "  (163, 659)\t1.0\n",
      "  (163, 1696)\t1.0\n",
      "  (163, 2295)\t1.0\n",
      "  (163, 1274)\t1.0\n",
      "  (163, 1286)\t1.0\n",
      "  (163, 1544)\t1.0\n",
      "  (163, 2600)\t1.0\n",
      "  (163, 2363)\t1.0\n",
      "  (163, 1905)\t1.0\n",
      "  (163, 1611)\t1.0\n",
      "  (163, 141)\t1.0\n",
      "  (163, 1807)\t1.0\n",
      "  (163, 1110)\t1.0\n",
      "  (163, 174)\t1.0\n",
      "  (163, 2521)\t1.0\n",
      "  (163, 1792)\t1.0\n",
      "  (163, 1675)\t1.0\n",
      "  (163, 1334)\t1.0\n",
      "  (163, 813)\t1.0\n",
      "  (163, 1799)\t1.0\n",
      "  (163, 1943)\t1.0\n",
      "  (163, 2077)\t1.0\n",
      "  (163, 765)\t1.0\n",
      "  (163, 769)\t1.0\n",
      "  :\t:\n",
      "  (2228, 1093)\t1.0\n",
      "  (2228, 1094)\t1.0\n",
      "  (2228, 2068)\t1.0\n",
      "  (2228, 2085)\t1.0\n",
      "  (2694, 2331)\t1.0\n",
      "  (617, 226)\t1.0\n",
      "  (422, 1691)\t1.0\n",
      "  (2142, 2096)\t1.0\n",
      "  (1477, 1252)\t1.0\n",
      "  (1485, 1252)\t1.0\n",
      "  (2185, 2109)\t1.0\n",
      "  (2117, 2639)\t1.0\n",
      "  (1211, 1247)\t1.0\n",
      "  (1884, 745)\t1.0\n",
      "  (1884, 1886)\t1.0\n",
      "  (1884, 1902)\t1.0\n",
      "  (1885, 745)\t1.0\n",
      "  (1885, 1884)\t1.0\n",
      "  (1885, 1886)\t1.0\n",
      "  (1885, 1902)\t1.0\n",
      "  (1886, 745)\t1.0\n",
      "  (1886, 1902)\t1.0\n",
      "  (1887, 2258)\t1.0\n",
      "  (1902, 1887)\t1.0\n",
      "  (837, 1686)\t1.0\n",
      "(2708, 1433)\n"
     ]
    }
   ],
   "source": [
    "path=\"./data/cora/\"\n",
    "dataset=\"cora\"\n",
    "\"\"\"Load citation network dataset (cora only for now)\"\"\"\n",
    "print('Loading {} dataset...'.format(dataset))\n",
    "idx_features_labels = np.genfromtxt(\"{}{}.content\".format(path, dataset), dtype=np.dtype(str))\n",
    "features = sp.csr_matrix(idx_features_labels[:, 1:-1], dtype=np.float32)\n",
    "labels = encode_onehot(idx_features_labels[:, -1])\n",
    "# build graph\n",
    "\n",
    "idx = np.array(idx_features_labels[:, 0], dtype=np.int32)\n",
    "idx_map = {j: i for i, j in enumerate(idx)}\n",
    "edges_unordered = np.genfromtxt(\"{}{}.cites\".format(path, dataset), dtype=np.int32)\n",
    "edges = np.array(list(map(idx_map.get, edges_unordered.flatten())), dtype=np.int32).reshape(edges_unordered.shape)\n",
    "adj = sp.coo_matrix((np.ones(edges.shape[0]), (edges[:, 0], edges[:, 1])), shape=(labels.shape[0], labels.shape[0]), dtype=np.float32)\n",
    "idx_train = range(140)\n",
    "idx_val = range(200, 500)\n",
    "idx_test = range(500, 1500)\n",
    "\n",
    "print(adj)\n",
    "\n",
    "# build symmetric adjacency matrix\n",
    "adj = adj + adj.T.multiply(adj.T > adj) - adj.multiply(adj.T > adj)\n",
    "features = normalize_features(features)\n",
    "print(features.shape)\n",
    "adj = normalize_adj(adj + sp.eye(adj.shape[0]))\n",
    "adj = torch.FloatTensor(np.array(adj.todense()))\n",
    "features = torch.FloatTensor(np.array(features.todense()))\n",
    "labels = torch.LongTensor(np.where(labels)[1])\n",
    "idx_train = torch.LongTensor(idx_train)\n",
    "idx_val = torch.LongTensor(idx_val)\n",
    "idx_test = torch.LongTensor(idx_test)\n"
   ]
  },
  {
   "cell_type": "code",
   "execution_count": 11,
   "metadata": {},
   "outputs": [
    {
     "name": "stdout",
     "output_type": "stream",
     "text": [
      "tensor([[0., 0., 0.,  ..., 0., 0., 0.],\n",
      "        [0., 0., 0.,  ..., 0., 0., 0.],\n",
      "        [0., 0., 0.,  ..., 0., 0., 0.],\n",
      "        ...,\n",
      "        [0., 0., 0.,  ..., 0., 0., 0.],\n",
      "        [0., 0., 0.,  ..., 0., 0., 0.],\n",
      "        [0., 0., 0.,  ..., 0., 0., 0.]])\n"
     ]
    }
   ],
   "source": [
    "#adj, features, labels, idx_train, idx_val, idx_test\n",
    "print(features)"
   ]
  },
  {
   "cell_type": "code",
   "execution_count": 8,
   "metadata": {},
   "outputs": [
    {
     "name": "stdout",
     "output_type": "stream",
     "text": [
      "tensor([2, 5, 4,  ..., 1, 0, 2])\n"
     ]
    }
   ],
   "source": [
    "print(labels)"
   ]
  },
  {
   "cell_type": "code",
   "execution_count": 9,
   "metadata": {},
   "outputs": [
    {
     "name": "stdout",
     "output_type": "stream",
     "text": [
      "tensor([  0,   1,   2,   3,   4,   5,   6,   7,   8,   9,  10,  11,  12,  13,\n",
      "         14,  15,  16,  17,  18,  19,  20,  21,  22,  23,  24,  25,  26,  27,\n",
      "         28,  29,  30,  31,  32,  33,  34,  35,  36,  37,  38,  39,  40,  41,\n",
      "         42,  43,  44,  45,  46,  47,  48,  49,  50,  51,  52,  53,  54,  55,\n",
      "         56,  57,  58,  59,  60,  61,  62,  63,  64,  65,  66,  67,  68,  69,\n",
      "         70,  71,  72,  73,  74,  75,  76,  77,  78,  79,  80,  81,  82,  83,\n",
      "         84,  85,  86,  87,  88,  89,  90,  91,  92,  93,  94,  95,  96,  97,\n",
      "         98,  99, 100, 101, 102, 103, 104, 105, 106, 107, 108, 109, 110, 111,\n",
      "        112, 113, 114, 115, 116, 117, 118, 119, 120, 121, 122, 123, 124, 125,\n",
      "        126, 127, 128, 129, 130, 131, 132, 133, 134, 135, 136, 137, 138, 139])\n"
     ]
    }
   ],
   "source": [
    "print(idx_train)"
   ]
  }
 ],
 "metadata": {
  "kernelspec": {
   "display_name": "env_MLMI1",
   "language": "python",
   "name": "python3"
  },
  "language_info": {
   "codemirror_mode": {
    "name": "ipython",
    "version": 3
   },
   "file_extension": ".py",
   "mimetype": "text/x-python",
   "name": "python",
   "nbconvert_exporter": "python",
   "pygments_lexer": "ipython3",
   "version": "3.10.13"
  }
 },
 "nbformat": 4,
 "nbformat_minor": 2
}
