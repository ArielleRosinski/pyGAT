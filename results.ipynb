{
 "cells": [
  {
   "cell_type": "code",
   "execution_count": 2,
   "metadata": {},
   "outputs": [
    {
     "name": "stdout",
     "output_type": "stream",
     "text": [
      "{0: {1: [(0.21776974343265584, 0.07196351524879968), (0.21544404487346752, 0.07037196845027428), (0.21534429902775162, 0.07326273055119484), (0.22516430664015566, 0.07643850872088155)], 2: [(0.38415935550823316, 0.11162387220677249), (0.4105355545753953, 0.10821166319133622), (0.41885466613769917, 0.11103243101850725), (0.40659774700705, 0.09797254771539453)], 3: [(0.5356037556122423, 0.11115175979797078), (0.5185031775397162, 0.11360193699331048), (0.513125251759835, 0.11321988778075234), (0.5283111115022833, 0.11417601853810237), (0.5069772555958172, 0.11654152071625808), (0.5257524211884156, 0.11309979677172975)]}, 1: {1: [(0.22203866831377472, 0.06831602201560148), (0.22077234062081175, 0.06899626413065102), (0.2204165550580189, 0.06982301311271309), (0.22950342083989544, 0.07232055808321554)], 2: [(0.3917674323410581, 0.10428714283544877), (0.4129924959503312, 0.10396929117409268), (0.4204391960007418, 0.10336483979480257), (0.4114386777779435, 0.0908262344934268)], 3: [(0.5419697203035058, 0.10053718989255436), (0.5247056662298163, 0.10359995637195607), (0.5181491350854286, 0.10389351727902266), (0.5317954834383142, 0.10371718799927056), (0.5117088549210073, 0.10783032112507698), (0.5298379475829877, 0.10245693345172029)]}}\n"
     ]
    }
   ],
   "source": [
    "import re\n",
    "\n",
    "results = {\n",
    "    0: {\n",
    "        1: [],\n",
    "        2: [],\n",
    "        3: [],\n",
    "    },\n",
    "    1: {\n",
    "        1: [],\n",
    "        2: [],\n",
    "        3: [],\n",
    "    },\n",
    "}\n",
    "\n",
    "with open(\"results.txt\", \"r\") as f:\n",
    "    lines = f.readlines()\n",
    "\n",
    "    for line in lines:\n",
    "        # Regular expression to extract numbers\n",
    "        regex_pattern = r\"Graph:\\s*(\\d+), Layer: attention_layer_(\\d+)_head_(\\d+), Entropy:\\s*([\\d.]+)\\s*±\\s*([\\d.]+)\"\n",
    "\n",
    "        # Search the log string\n",
    "        match = re.search(regex_pattern, line)\n",
    "\n",
    "        if match:\n",
    "            graph_number = int(match.group(1))\n",
    "            layer_number = int(match.group(2))\n",
    "            head_number = int(match.group(3))\n",
    "            entropy_value = float(match.group(4))\n",
    "            entropy_std = float(match.group(5))\n",
    "\n",
    "            results[graph_number][layer_number].append((entropy_value, entropy_std))\n",
    "\n",
    "print(results)"
   ]
  }
 ],
 "metadata": {
  "kernelspec": {
   "display_name": "gat_env",
   "language": "python",
   "name": "python3"
  },
  "language_info": {
   "codemirror_mode": {
    "name": "ipython",
    "version": 3
   },
   "file_extension": ".py",
   "mimetype": "text/x-python",
   "name": "python",
   "nbconvert_exporter": "python",
   "pygments_lexer": "ipython3",
   "version": "3.9.18"
  }
 },
 "nbformat": 4,
 "nbformat_minor": 2
}
